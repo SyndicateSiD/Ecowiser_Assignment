{
 "cells": [
  {
   "cell_type": "code",
   "execution_count": 1,
   "metadata": {},
   "outputs": [],
   "source": [
    "import requests\n",
    "import json\n",
    "import csv"
   ]
  },
  {
   "cell_type": "code",
   "execution_count": 2,
   "metadata": {},
   "outputs": [],
   "source": [
    "def get_linkedin_data_api(first_name, last_name):\n",
    "    access_token = 'AQUuCwFSsDDtkRm09yrBdNmBm73nivDV3CdHai3kXw9sZNyPLXz2Pl2vCQUjgJTT5gPTdLlagxf3h6D2BDve_WZAflvZjHbHjTYbCZ55R1AtTmOzBARN8JqCX3Y5_zvpb3d88abRDhubI470wEpnKmltje0gNxaCSphp8dh7D-z4ggAR0t_RXJxvmB69adoHkjQZafdeBm0K3evPGcUY9K3VZ7ejxuGvb3Sir2R6_KWBhjJDF9JR9Ou6dg0qPgtskIUj5UqTheJhPWn1rNO7G02uMWIa4dYmCf8HlJ9bQej4bAYwRO46CDBivq-Gm4PKD5XYY8ckLgXIVHLkehW0qvQZbZQ2iw'\n",
    "    url = f'https://api.linkedin.com/v2/me'\n",
    " \n",
    "    headers = {\n",
    "        'Authorization': f'Bearer {access_token}',\n",
    "        'Connection': 'Keep-Alive',\n",
    "    }\n",
    "    try:\n",
    "        response = requests.get(url, headers=headers)\n",
    "        if response.status_code == 200:\n",
    "            data = json.loads(response.text)\n",
    "            # Extracting data from API response\n",
    "            user_data = []\n",
    "            for person in data.get('elements', [])[:5]:\n",
    "                user_data.append({\n",
    "                    'Name': f\"{person.get('firstName')} {person.get('lastName')}\",\n",
    "                    'Headline': person.get('headline', ''),\n",
    "                    'Location': person.get('location', {}).get('preferredGeoPlaceName', ''),\n",
    "                    'Public Profile URL': person.get('publicIdentifier', ''),\n",
    "                })\n",
    "            return user_data\n",
    "        else:\n",
    "            print(f\"LinkedIn API request failed with status code: {response.status_code}\")\n",
    "            return None\n",
    "    except Exception as e:\n",
    "        print(f\"Error: {e}\")\n",
    "        return None\n"
   ]
  },
  {
   "cell_type": "code",
   "execution_count": 3,
   "metadata": {},
   "outputs": [],
   "source": [
    "def save_to_csv(data, file_path):\n",
    "    # Saving data to CSV file\n",
    "    with open(file_path, mode='w', newline='') as file:\n",
    "        writer = csv.DictWriter(file, fieldnames=data[0].keys())\n",
    "        writer.writeheader()\n",
    "        writer.writerows(data)\n",
    "\n"
   ]
  },
  {
   "cell_type": "code",
   "execution_count": 4,
   "metadata": {},
   "outputs": [
    {
     "name": "stdout",
     "output_type": "stream",
     "text": [
      "LinkedIn API request failed with status code: 403\n"
     ]
    },
    {
     "ename": "TypeError",
     "evalue": "'NoneType' object is not subscriptable",
     "output_type": "error",
     "traceback": [
      "\u001b[1;31m---------------------------------------------------------------------------\u001b[0m",
      "\u001b[1;31mTypeError\u001b[0m                                 Traceback (most recent call last)",
      "Cell \u001b[1;32mIn[4], line 5\u001b[0m\n\u001b[0;32m      3\u001b[0m last_name \u001b[38;5;241m=\u001b[39m \u001b[38;5;28minput\u001b[39m(\u001b[38;5;124m\"\u001b[39m\u001b[38;5;124mEnter last name: \u001b[39m\u001b[38;5;124m\"\u001b[39m)\n\u001b[0;32m      4\u001b[0m linkedin_data \u001b[38;5;241m=\u001b[39m get_linkedin_data_api(first_name, last_name)\n\u001b[1;32m----> 5\u001b[0m \u001b[43msave_to_csv\u001b[49m\u001b[43m(\u001b[49m\u001b[43mlinkedin_data\u001b[49m\u001b[43m,\u001b[49m\u001b[43m \u001b[49m\u001b[38;5;124;43m'\u001b[39;49m\u001b[38;5;124;43mOutput.csv\u001b[39;49m\u001b[38;5;124;43m'\u001b[39;49m\u001b[43m)\u001b[49m\n",
      "Cell \u001b[1;32mIn[3], line 4\u001b[0m, in \u001b[0;36msave_to_csv\u001b[1;34m(data, file_path)\u001b[0m\n\u001b[0;32m      1\u001b[0m \u001b[38;5;28;01mdef\u001b[39;00m \u001b[38;5;21msave_to_csv\u001b[39m(data, file_path):\n\u001b[0;32m      2\u001b[0m     \u001b[38;5;66;03m# Saving data to CSV file\u001b[39;00m\n\u001b[0;32m      3\u001b[0m     \u001b[38;5;28;01mwith\u001b[39;00m \u001b[38;5;28mopen\u001b[39m(file_path, mode\u001b[38;5;241m=\u001b[39m\u001b[38;5;124m'\u001b[39m\u001b[38;5;124mw\u001b[39m\u001b[38;5;124m'\u001b[39m, newline\u001b[38;5;241m=\u001b[39m\u001b[38;5;124m'\u001b[39m\u001b[38;5;124m'\u001b[39m) \u001b[38;5;28;01mas\u001b[39;00m file:\n\u001b[1;32m----> 4\u001b[0m         writer \u001b[38;5;241m=\u001b[39m csv\u001b[38;5;241m.\u001b[39mDictWriter(file, fieldnames\u001b[38;5;241m=\u001b[39m\u001b[43mdata\u001b[49m\u001b[43m[\u001b[49m\u001b[38;5;241;43m0\u001b[39;49m\u001b[43m]\u001b[49m\u001b[38;5;241m.\u001b[39mkeys())\n\u001b[0;32m      5\u001b[0m         writer\u001b[38;5;241m.\u001b[39mwriteheader()\n\u001b[0;32m      6\u001b[0m         writer\u001b[38;5;241m.\u001b[39mwriterows(data)\n",
      "\u001b[1;31mTypeError\u001b[0m: 'NoneType' object is not subscriptable"
     ]
    }
   ],
   "source": [
    "#Search\n",
    "first_name = input(\"Enter first name: \")\n",
    "last_name = input(\"Enter last name: \")\n",
    "linkedin_data = get_linkedin_data_api(first_name, last_name)\n",
    "save_to_csv(linkedin_data, 'Output.csv')"
   ]
  },
  {
   "cell_type": "code",
   "execution_count": 2,
   "metadata": {},
   "outputs": [],
   "source": [
    "\n",
    "\n",
    "def get_linkedin_data_api(access_token):\n",
    "    url = 'https://api.linkedin.com/v2/me'\n",
    "    headers = {\n",
    "        'Authorization': f'Bearer {access_token}',\n",
    "        'Connection': 'Keep-Alive',\n",
    "    }\n",
    "    try:\n",
    "        response = requests.get(url, headers=headers)\n",
    "        if response.status_code == 200:\n",
    "            data = json.loads(response.text)\n",
    "            # Extracting data from API response\n",
    "            user_data = {\n",
    "                'Name': f\"{data.get('localizedFirstName')} {data.get('localizedLastName')}\",\n",
    "                'Headline': data.get('headline', ''),\n",
    "                'Location': data.get('location', {}).get('preferredGeoPlaceName', ''),\n",
    "                'Public Profile URL': data.get('vanityName', ''),\n",
    "            }\n",
    "            return user_data\n",
    "        else:\n",
    "            print(f\"LinkedIn API request failed with status code: {response.status_code}\")\n",
    "            return None\n",
    "    except Exception as e:\n",
    "        print(f\"Error: {e}\")\n",
    "        return None\n",
    "\n"
   ]
  },
  {
   "cell_type": "code",
   "execution_count": 3,
   "metadata": {},
   "outputs": [
    {
     "name": "stdout",
     "output_type": "stream",
     "text": [
      "LinkedIn API request failed with status code: 403\n",
      "Failed to retrieve LinkedIn data.\n"
     ]
    }
   ],
   "source": [
    "access_token = 'AQUuCwFSsDDtkRm09yrBdNmBm73nivDV3CdHai3kXw9sZNyPLXz2Pl2vCQUjgJTT5gPTdLlagxf3h6D2BDve_WZAflvZjHbHjTYbCZ55R1AtTmOzBARN8JqCX3Y5_zvpb3d88abRDhubI470wEpnKmltje0gNxaCSphp8dh7D-z4ggAR0t_RXJxvmB69adoHkjQZafdeBm0K3evPGcUY9K3VZ7ejxuGvb3Sir2R6_KWBhjJDF9JR9Ou6dg0qPgtskIUj5UqTheJhPWn1rNO7G02uMWIa4dYmCf8HlJ9bQej4bAYwRO46CDBivq-Gm4PKD5XYY8ckLgXIVHLkehW0qvQZbZQ2iw'\n",
    "\n",
    "# Call the get_linkedin_data_api function with the access token\n",
    "linkedin_data = get_linkedin_data_api(access_token)\n",
    "\n",
    "# Check if data is retrieved successfully\n",
    "if linkedin_data is not None:\n",
    "    print(\"LinkedIn data retrieved successfully:\")\n",
    "    print(linkedin_data)\n",
    "else:\n",
    "    print(\"Failed to retrieve LinkedIn data.\")"
   ]
  },
  {
   "cell_type": "code",
   "execution_count": 4,
   "metadata": {},
   "outputs": [],
   "source": [
    "def save_to_csv(data, file_path):\n",
    "    # Saving data to CSV file\n",
    "    with open(file_path, mode='w', newline='') as file:\n",
    "        writer = csv.DictWriter(file, fieldnames=data[0].keys())\n",
    "        writer.writeheader()\n",
    "        writer.writerows(data)\n"
   ]
  },
  {
   "cell_type": "code",
   "execution_count": null,
   "metadata": {},
   "outputs": [],
   "source": [
    "import requests\n",
    "import json\n",
    "\n",
    "def get_linkedin_data_api(first_name, last_name):\n",
    "    access_token = 'AQXS4xLxknpFdIFhhlzRjc6i-FsSVAxjLUzZn1Sv8gGO-hj_045xI6gIezhCRZ--12DNtL-jGbblETV091UnMWYHvt0t-qe9IU4XCn3B8Sa49PgMqXjUYvib9MHHaoP3beuOaamEs2sMXDCJdhmRfb4Dc5yMKdrch5F8IIBfLIPtr6dVil_b2YPYCbc6W7uoC4eq2QuR1q_wiY2m5RogAWz0DdaK0SxdnjFWyD0Iim9Clu9I0-YJ95LdWGn21UTM8uHT8ZtyxMJpV_ruWn3zzd1QrzTIdp1S3Ci9ZjW8YdVrR0FqT35fKEcvZcM5u6xPNwHmTbmhBRh9mGWTL6TPqVDHAjHk0Q'\n",
    "    url = f'https://api.linkedin.com/v2/search?q=firstName%70{first_name}%20lastName%70{last_name}&type=PEOPLE&count=10'\n",
    "    headers = {\n",
    "        'Authorization': f'Bearer {access_token}',\n",
    "        'Connection': 'Keep-Alive',\n",
    "    }\n",
    "    try:\n",
    "        response = requests.get(url, headers=headers)\n",
    "        data = json.loads(response.text)\n",
    "        user_data = []\n",
    "        for person in data.get('elements', [])[:5]:\n",
    "            user_data.append({\n",
    "                'Name': f\"{person.get('firstName')} {person.get('lastName')}\",\n",
    "                'Headline': person.get('headline', ''),\n",
    "                'Location': person.get('location', {}).get('name', ''),\n",
    "                'Public Profile URL': person.get('publicProfileUrl', ''),\n",
    "            })\n",
    "        return user_data\n",
    "    except Exception as e:\n",
    "        print(f\"Error: {e}\")\n",
    "        return None\n",
    "\n",
    "def save_to_csv(data, file_path):\n",
    "    with open(file_path, mode='w', newline='') as file:\n",
    "        writer = csv.DictWriter(file, fieldnames=data[0].keys())\n",
    "        writer.writeheader()\n",
    "        writer.writerows(data)\n",
    "\n",
    "first_name = input(\"Enter first name: \")\n",
    "last_name = input(\"Enter last name: \")\n",
    "linkedin_data = get_linkedin_data_api(first_name, last_name)\n",
    "save_to_csv(linkedin_data, 'Output.csv')"
   ]
  }
 ],
 "metadata": {
  "kernelspec": {
   "display_name": "Python 3",
   "language": "python",
   "name": "python3"
  },
  "language_info": {
   "codemirror_mode": {
    "name": "ipython",
    "version": 3
   },
   "file_extension": ".py",
   "mimetype": "text/x-python",
   "name": "python",
   "nbconvert_exporter": "python",
   "pygments_lexer": "ipython3",
   "version": "3.12.2"
  }
 },
 "nbformat": 4,
 "nbformat_minor": 2
}

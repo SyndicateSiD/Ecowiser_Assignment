{
 "cells": [
  {
   "cell_type": "code",
   "execution_count": 4,
   "metadata": {},
   "outputs": [],
   "source": [
    "import requests\n",
    "import json\n",
    "import csv"
   ]
  },
  {
   "cell_type": "code",
   "execution_count": 5,
   "metadata": {},
   "outputs": [
    {
     "name": "stdout",
     "output_type": "stream",
     "text": [
      "Failed to retrieve LinkedIn data.\n"
     ]
    }
   ],
   "source": [
    "import requests\n",
    "import csv\n",
    "\n",
    "def get_linkedin_data_oauth(first_name, last_name, access_token):\n",
    "    url = f'https://api.linkedin.com/v2/people-search?q={first_name} {last_name}&count=10'\n",
    "    headers = {\n",
    "        'Authorization': f'Bearer {access_token}',\n",
    "        'Connection': 'Keep-Alive',\n",
    "    }\n",
    "    try:\n",
    "        response = requests.get(url, headers=headers)\n",
    "        data = response.json()\n",
    "        user_data = []\n",
    "        for person in data.get('elements', [])[:10]:\n",
    "            user_data.append({\n",
    "                'Name': f\"{person.get('firstName')} {person.get('lastName')}\",\n",
    "                'Headline': person.get('headline', ''),\n",
    "                'Location': person.get('location', {}).get('preferredGeoPlaceName', ''),\n",
    "                'Public Profile URL': f\"https://www.linkedin.com/in/{person.get('publicIdentifier', '')}\",\n",
    "            })\n",
    "            # Retrieve more details for each user by their LinkedIn profile ID\n",
    "            profile_id = person.get('publicIdentifier')\n",
    "            if profile_id:\n",
    "                profile_data = get_profile_by_id(profile_id, access_token)\n",
    "                if profile_data:\n",
    "                    user_data[-1].update(profile_data)\n",
    "\n",
    "        return user_data\n",
    "    except Exception as e:\n",
    "        print(f\"Error: {e}\")\n",
    "        return None\n",
    "\n",
    "def get_profile_by_id(profile_id, access_token):\n",
    "    url = f'https://api.linkedin.com/v2/people/(id:{profile_id})'\n",
    "    headers = {\n",
    "        'Authorization': f'Bearer {access_token}',\n",
    "        'Connection': 'Keep-Alive',\n",
    "        'X-RestLi-Protocol-Version': '2.0.0'  # Required for retrieving profiles by ID\n",
    "    }\n",
    "    try:\n",
    "        response = requests.get(url, headers=headers)\n",
    "        data = response.json()\n",
    "        profile_data = {\n",
    "            'Profile ID': profile_id,\n",
    "            'Summary': data.get('summary', ''),\n",
    "            'Experience': data.get('experience', []),\n",
    "            # Add more fields as needed\n",
    "        }\n",
    "        return profile_data\n",
    "    except Exception as e:\n",
    "        print(f\"Error fetching profile {profile_id}: {e}\")\n",
    "        return None\n",
    "\n",
    "def save_to_csv(data, file_path):\n",
    "    with open(file_path, mode='w', newline='', encoding='utf-8') as file:\n",
    "        writer = csv.DictWriter(file, fieldnames=data[0].keys())\n",
    "        writer.writeheader()\n",
    "        writer.writerows(data)\n",
    "\n",
    "def main():\n",
    "    first_name = input(\"Enter first name: \")\n",
    "    last_name = input(\"Enter last name: \")\n",
    "    access_token = 'AQUuCwFSsDDtkRm09yrBdNmBm73nivDV3CdHai3kXw9sZNyPLXz2Pl2vCQUjgJTT5gPTdLlagxf3h6D2BDve_WZAflvZjHbHjTYbCZ55R1AtTmOzBARN8JqCX3Y5_zvpb3d88abRDhubI470wEpnKmltje0gNxaCSphp8dh7D-z4ggAR0t_RXJxvmB69adoHkjQZafdeBm0K3evPGcUY9K3VZ7ejxuGvb3Sir2R6_KWBhjJDF9JR9Ou6dg0qPgtskIUj5UqTheJhPWn1rNO7G02uMWIa4dYmCf8HlJ9bQej4bAYwRO46CDBivq-Gm4PKD5XYY8ckLgXIVHLkehW0qvQZbZQ2iw'\n",
    "   \n",
    "    linkedin_data = get_linkedin_data_oauth(first_name, last_name, access_token)\n",
    "    if linkedin_data:\n",
    "        save_to_csv(linkedin_data, 'linkedin_data_oauth.csv')\n",
    "        print(\"Data saved successfully.\")\n",
    "    else:\n",
    "        print(\"Failed to retrieve LinkedIn data.\")\n",
    "\n",
    "if __name__ == \"__main__\":\n",
    "    main()\n"
   ]
  },
  {
   "cell_type": "code",
   "execution_count": 3,
   "metadata": {},
   "outputs": [
    {
     "name": "stdout",
     "output_type": "stream",
     "text": [
      "Failed to retrieve LinkedIn data.\n"
     ]
    }
   ],
   "source": [
    "def get_profile_by_id(profile_id, access_token):\n",
    "    url = f'https://api.linkedin.com/v2/people/(id:{profile_id})'\n",
    "    headers = {\n",
    "        'Authorization': f'Bearer {access_token}',\n",
    "        'Connection': 'Keep-Alive',\n",
    "        'X-RestLi-Protocol-Version': '2.0.0'  # Required for retrieving profiles by ID\n",
    "    }\n",
    "    try:\n",
    "        response = requests.get(url, headers=headers)\n",
    "        data = response.json()\n",
    "        profile_data = {\n",
    "            'Profile ID': profile_id,\n",
    "            'Summary': data.get('summary', ''),\n",
    "            'Experience': data.get('experience', []),\n",
    "            # Add more fields as needed\n",
    "        }\n",
    "        return profile_data\n",
    "    except Exception as e:\n",
    "        print(f\"Error fetching profile {profile_id}: {e}\")\n",
    "        return None\n",
    "\n",
    "def save_to_csv(data, file_path):\n",
    "    with open(file_path, mode='w', newline='', encoding='utf-8') as file:\n",
    "        writer = csv.DictWriter(file, fieldnames=data[0].keys())\n",
    "        writer.writeheader()\n",
    "        writer.writerows(data)\n",
    "\n",
    "def main():\n",
    "    first_name = input(\"Enter first name: \")\n",
    "    last_name = input(\"Enter last name: \")\n",
    "    access_token = 'AQUuCwFSsDDtkRm09yrBdNmBm73nivDV3CdHai3kXw9sZNyPLXz2Pl2vCQUjgJTT5gPTdLlagxf3h6D2BDve_WZAflvZjHbHjTYbCZ55R1AtTmOzBARN8JqCX3Y5_zvpb3d88abRDhubI470wEpnKmltje0gNxaCSphp8dh7D-z4ggAR0t_RXJxvmB69adoHkjQZafdeBm0K3evPGcUY9K3VZ7ejxuGvb3Sir2R6_KWBhjJDF9JR9Ou6dg0qPgtskIUj5UqTheJhPWn1rNO7G02uMWIa4dYmCf8HlJ9bQej4bAYwRO46CDBivq-Gm4PKD5XYY8ckLgXIVHLkehW0qvQZbZQ2iw'\n",
    "   \n",
    "    linkedin_data = get_linkedin_data_oauth(first_name, last_name, access_token)\n",
    "    if linkedin_data:\n",
    "        save_to_csv(linkedin_data, 'linkedin_data_oauth.csv')\n",
    "        print(\"Data saved successfully.\")\n",
    "    else:\n",
    "        print(\"Failed to retrieve LinkedIn data.\")\n",
    "\n",
    "if __name__ == \"__main__\":\n",
    "    main()\n"
   ]
  }
 ],
 "metadata": {
  "kernelspec": {
   "display_name": "Python 3",
   "language": "python",
   "name": "python3"
  },
  "language_info": {
   "codemirror_mode": {
    "name": "ipython",
    "version": 3
   },
   "file_extension": ".py",
   "mimetype": "text/x-python",
   "name": "python",
   "nbconvert_exporter": "python",
   "pygments_lexer": "ipython3",
   "version": "3.12.2"
  }
 },
 "nbformat": 4,
 "nbformat_minor": 2
}
